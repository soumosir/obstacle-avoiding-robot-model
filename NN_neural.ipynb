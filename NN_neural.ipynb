{
  "nbformat": 4,
  "nbformat_minor": 0,
  "metadata": {
    "colab": {
      "name": "NN_neural.ipynb",
      "provenance": [],
      "collapsed_sections": []
    },
    "kernelspec": {
      "name": "python3",
      "display_name": "Python 3"
    },
    "language_info": {
      "name": "python"
    }
  },
  "cells": [
    {
      "cell_type": "code",
      "execution_count": 1,
      "metadata": {
        "id": "q8eY2OjbJkfQ"
      },
      "outputs": [],
      "source": [
        "import numpy as np\n",
        "import pandas as pd\n",
        "import seaborn as sns\n",
        "import os\n",
        "import pickle\n",
        "import json\n",
        "from glob import glob\n",
        "import tensorflow as tf\n",
        "from tensorflow import keras\n",
        "from keras.models import Sequential\n",
        "# from keras.layers import Dense\n",
        "import matplotlib.pyplot as plt\n",
        "from tensorflow.keras import layers"
      ]
    },
    {
      "cell_type": "code",
      "source": [
        "X = np.load('X_nn.npy')\n",
        "y = np.load('y_nn.npy')  \n",
        "from sklearn.model_selection import train_test_split\n",
        "X, XValidation, y, yValidation = train_test_split(X,y,test_size=0.2,random_state=42) # before model building\n",
        "print(X.shape,y.shape,XValidation.shape,yValidation.shape)"
      ],
      "metadata": {
        "colab": {
          "base_uri": "https://localhost:8080/"
        },
        "id": "9DY7SZNzM1ye",
        "outputId": "7dbf9780-f6ee-44a2-d75c-786546fb15f7"
      },
      "execution_count": 3,
      "outputs": [
        {
          "output_type": "stream",
          "name": "stdout",
          "text": [
            "(2195595, 18) (2195595, 2) (548899, 18) (548899, 2)\n"
          ]
        }
      ]
    },
    {
      "cell_type": "code",
      "source": [
        "X_test = np.load('X_nn_test.npy')\n",
        "y_test = np.load('y_nn_test.npy')  \n",
        "print(X_test.shape,y_test.shape)"
      ],
      "metadata": {
        "colab": {
          "base_uri": "https://localhost:8080/"
        },
        "id": "kfq0Qiy9Rh0H",
        "outputId": "9392c205-2bd5-4cbc-e806-52129be2a4e7"
      },
      "execution_count": 4,
      "outputs": [
        {
          "output_type": "stream",
          "name": "stdout",
          "text": [
            "(389817, 18) (389817, 2)\n"
          ]
        }
      ]
    },
    {
      "cell_type": "code",
      "source": [
        "from tensorflow.python.keras.layers.core import Dropout\n",
        "model = keras.Sequential()\n",
        "model.add(layers.Dense(12, input_dim=18, activation='relu'))\n",
        "model.add(layers.Dense(8, activation='relu'))\n",
        "model.add(layers.Dense(32, activation='relu'))\n",
        "# model.add(Dropout(0.5))\n",
        "model.add(layers.Dense(16, activation='relu'))\n",
        "model.add(layers.Dense(32, activation='relu'))\n",
        "# ,kernel_regularizer=keras.regularizers.l2(0.01)\n",
        "model.add(layers.Dense(2, activation='linear'))\n",
        "model.compile(\n",
        "    optimizer=keras.optimizers.Adam(learning_rate=0.01),\n",
        "    loss='mse',\n",
        "    metrics=['mse','accuracy'])\n",
        "model_copy = model"
      ],
      "metadata": {
        "id": "dnTAHMzaNLbh"
      },
      "execution_count": 104,
      "outputs": []
    },
    {
      "cell_type": "code",
      "source": [
        "history_v1 = model.fit(X, y, epochs=40,batch_size=1000,validation_data=(XValidation,yValidation))"
      ],
      "metadata": {
        "colab": {
          "base_uri": "https://localhost:8080/"
        },
        "id": "hrChaM_uO7jD",
        "outputId": "8a6eeadf-a049-4f96-f38d-ef4530f7089c"
      },
      "execution_count": 105,
      "outputs": [
        {
          "output_type": "stream",
          "name": "stdout",
          "text": [
            "Epoch 1/40\n",
            "2196/2196 [==============================] - 9s 4ms/step - loss: 0.0539 - mse: 0.0539 - accuracy: 0.8008 - val_loss: 0.0526 - val_mse: 0.0526 - val_accuracy: 0.8986\n",
            "Epoch 2/40\n",
            "2196/2196 [==============================] - 9s 4ms/step - loss: 0.0459 - mse: 0.0459 - accuracy: 0.7577 - val_loss: 0.0476 - val_mse: 0.0476 - val_accuracy: 0.7274\n",
            "Epoch 3/40\n",
            "2196/2196 [==============================] - 9s 4ms/step - loss: 0.0434 - mse: 0.0434 - accuracy: 0.7574 - val_loss: 0.0429 - val_mse: 0.0429 - val_accuracy: 0.6980\n",
            "Epoch 4/40\n",
            "2196/2196 [==============================] - 8s 4ms/step - loss: 0.0421 - mse: 0.0421 - accuracy: 0.7552 - val_loss: 0.0426 - val_mse: 0.0426 - val_accuracy: 0.6572\n",
            "Epoch 5/40\n",
            "2196/2196 [==============================] - 8s 4ms/step - loss: 0.0415 - mse: 0.0415 - accuracy: 0.7698 - val_loss: 0.0413 - val_mse: 0.0413 - val_accuracy: 0.6116\n",
            "Epoch 6/40\n",
            "2196/2196 [==============================] - 8s 4ms/step - loss: 0.0412 - mse: 0.0412 - accuracy: 0.7829 - val_loss: 0.0413 - val_mse: 0.0413 - val_accuracy: 0.6174\n",
            "Epoch 7/40\n",
            "2196/2196 [==============================] - 8s 4ms/step - loss: 0.0410 - mse: 0.0410 - accuracy: 0.7977 - val_loss: 0.0416 - val_mse: 0.0416 - val_accuracy: 0.8926\n",
            "Epoch 8/40\n",
            "2196/2196 [==============================] - 9s 4ms/step - loss: 0.0408 - mse: 0.0408 - accuracy: 0.7746 - val_loss: 0.0409 - val_mse: 0.0409 - val_accuracy: 0.6316\n",
            "Epoch 9/40\n",
            "2196/2196 [==============================] - 8s 4ms/step - loss: 0.0407 - mse: 0.0407 - accuracy: 0.7719 - val_loss: 0.0404 - val_mse: 0.0404 - val_accuracy: 0.9039\n",
            "Epoch 10/40\n",
            "2196/2196 [==============================] - 8s 4ms/step - loss: 0.0406 - mse: 0.0406 - accuracy: 0.7766 - val_loss: 0.0400 - val_mse: 0.0400 - val_accuracy: 0.5948\n",
            "Epoch 11/40\n",
            "2196/2196 [==============================] - 9s 4ms/step - loss: 0.0404 - mse: 0.0404 - accuracy: 0.8031 - val_loss: 0.0400 - val_mse: 0.0400 - val_accuracy: 0.8885\n",
            "Epoch 12/40\n",
            "2196/2196 [==============================] - 8s 4ms/step - loss: 0.0404 - mse: 0.0404 - accuracy: 0.8100 - val_loss: 0.0410 - val_mse: 0.0410 - val_accuracy: 0.8866\n",
            "Epoch 13/40\n",
            "2196/2196 [==============================] - 8s 4ms/step - loss: 0.0402 - mse: 0.0402 - accuracy: 0.8177 - val_loss: 0.0404 - val_mse: 0.0404 - val_accuracy: 0.9225\n",
            "Epoch 14/40\n",
            "2196/2196 [==============================] - 8s 4ms/step - loss: 0.0402 - mse: 0.0402 - accuracy: 0.8240 - val_loss: 0.0398 - val_mse: 0.0398 - val_accuracy: 0.9136\n",
            "Epoch 15/40\n",
            "2196/2196 [==============================] - 9s 4ms/step - loss: 0.0402 - mse: 0.0402 - accuracy: 0.8275 - val_loss: 0.0410 - val_mse: 0.0410 - val_accuracy: 0.6809\n",
            "Epoch 16/40\n",
            "2196/2196 [==============================] - 8s 4ms/step - loss: 0.0400 - mse: 0.0400 - accuracy: 0.8153 - val_loss: 0.0393 - val_mse: 0.0393 - val_accuracy: 0.8942\n",
            "Epoch 17/40\n",
            "2196/2196 [==============================] - 8s 4ms/step - loss: 0.0401 - mse: 0.0401 - accuracy: 0.8283 - val_loss: 0.0400 - val_mse: 0.0400 - val_accuracy: 0.6239\n",
            "Epoch 18/40\n",
            "2196/2196 [==============================] - 8s 4ms/step - loss: 0.0399 - mse: 0.0399 - accuracy: 0.8157 - val_loss: 0.0407 - val_mse: 0.0407 - val_accuracy: 0.8363\n",
            "Epoch 19/40\n",
            "2196/2196 [==============================] - 9s 4ms/step - loss: 0.0399 - mse: 0.0399 - accuracy: 0.8214 - val_loss: 0.0392 - val_mse: 0.0392 - val_accuracy: 0.9148\n",
            "Epoch 20/40\n",
            "2196/2196 [==============================] - 8s 4ms/step - loss: 0.0398 - mse: 0.0398 - accuracy: 0.8167 - val_loss: 0.0399 - val_mse: 0.0399 - val_accuracy: 0.9147\n",
            "Epoch 21/40\n",
            "2196/2196 [==============================] - 10s 4ms/step - loss: 0.0398 - mse: 0.0398 - accuracy: 0.8160 - val_loss: 0.0398 - val_mse: 0.0398 - val_accuracy: 0.8866\n",
            "Epoch 22/40\n",
            "2196/2196 [==============================] - 9s 4ms/step - loss: 0.0402 - mse: 0.0402 - accuracy: 0.8167 - val_loss: 0.0396 - val_mse: 0.0396 - val_accuracy: 0.9109\n",
            "Epoch 23/40\n",
            "2196/2196 [==============================] - 9s 4ms/step - loss: 0.0399 - mse: 0.0399 - accuracy: 0.8215 - val_loss: 0.0394 - val_mse: 0.0394 - val_accuracy: 0.9261\n",
            "Epoch 24/40\n",
            "2196/2196 [==============================] - 9s 4ms/step - loss: 0.0399 - mse: 0.0399 - accuracy: 0.8050 - val_loss: 0.0396 - val_mse: 0.0396 - val_accuracy: 0.9283\n",
            "Epoch 25/40\n",
            "2196/2196 [==============================] - 9s 4ms/step - loss: 0.0399 - mse: 0.0399 - accuracy: 0.8129 - val_loss: 0.0395 - val_mse: 0.0395 - val_accuracy: 0.6447\n",
            "Epoch 26/40\n",
            "2196/2196 [==============================] - 9s 4ms/step - loss: 0.0397 - mse: 0.0397 - accuracy: 0.8132 - val_loss: 0.0392 - val_mse: 0.0392 - val_accuracy: 0.9200\n",
            "Epoch 27/40\n",
            "2196/2196 [==============================] - 8s 4ms/step - loss: 0.0397 - mse: 0.0397 - accuracy: 0.8234 - val_loss: 0.0391 - val_mse: 0.0391 - val_accuracy: 0.6207\n",
            "Epoch 28/40\n",
            "2196/2196 [==============================] - 9s 4ms/step - loss: 0.0397 - mse: 0.0397 - accuracy: 0.8279 - val_loss: 0.0394 - val_mse: 0.0394 - val_accuracy: 0.9007\n",
            "Epoch 29/40\n",
            "2196/2196 [==============================] - 8s 4ms/step - loss: 0.0395 - mse: 0.0395 - accuracy: 0.8222 - val_loss: 0.0391 - val_mse: 0.0391 - val_accuracy: 0.9043\n",
            "Epoch 30/40\n",
            "2196/2196 [==============================] - 8s 4ms/step - loss: 0.0396 - mse: 0.0396 - accuracy: 0.8204 - val_loss: 0.0399 - val_mse: 0.0399 - val_accuracy: 0.5910\n",
            "Epoch 31/40\n",
            "2196/2196 [==============================] - 9s 4ms/step - loss: 0.0395 - mse: 0.0395 - accuracy: 0.8232 - val_loss: 0.0393 - val_mse: 0.0393 - val_accuracy: 0.8917\n",
            "Epoch 32/40\n",
            "2196/2196 [==============================] - 9s 4ms/step - loss: 0.0396 - mse: 0.0396 - accuracy: 0.8027 - val_loss: 0.0401 - val_mse: 0.0401 - val_accuracy: 0.8888\n",
            "Epoch 33/40\n",
            "2196/2196 [==============================] - 9s 4ms/step - loss: 0.0394 - mse: 0.0394 - accuracy: 0.8152 - val_loss: 0.0407 - val_mse: 0.0407 - val_accuracy: 0.9184\n",
            "Epoch 34/40\n",
            "2196/2196 [==============================] - 9s 4ms/step - loss: 0.0394 - mse: 0.0394 - accuracy: 0.8185 - val_loss: 0.0392 - val_mse: 0.0392 - val_accuracy: 0.6586\n",
            "Epoch 35/40\n",
            "2196/2196 [==============================] - 8s 4ms/step - loss: 0.0394 - mse: 0.0394 - accuracy: 0.8153 - val_loss: 0.0405 - val_mse: 0.0405 - val_accuracy: 0.9067\n",
            "Epoch 36/40\n",
            "2196/2196 [==============================] - 9s 4ms/step - loss: 0.0393 - mse: 0.0393 - accuracy: 0.8235 - val_loss: 0.0387 - val_mse: 0.0387 - val_accuracy: 0.6301\n",
            "Epoch 37/40\n",
            "2196/2196 [==============================] - 9s 4ms/step - loss: 0.0393 - mse: 0.0393 - accuracy: 0.8109 - val_loss: 0.0389 - val_mse: 0.0389 - val_accuracy: 0.6182\n",
            "Epoch 38/40\n",
            "2196/2196 [==============================] - 9s 4ms/step - loss: 0.0393 - mse: 0.0393 - accuracy: 0.8129 - val_loss: 0.0388 - val_mse: 0.0388 - val_accuracy: 0.9119\n",
            "Epoch 39/40\n",
            "2196/2196 [==============================] - 9s 4ms/step - loss: 0.0394 - mse: 0.0394 - accuracy: 0.8037 - val_loss: 0.0395 - val_mse: 0.0395 - val_accuracy: 0.6199\n",
            "Epoch 40/40\n",
            "2196/2196 [==============================] - 9s 4ms/step - loss: 0.0394 - mse: 0.0394 - accuracy: 0.7967 - val_loss: 0.0389 - val_mse: 0.0389 - val_accuracy: 0.9234\n"
          ]
        }
      ]
    },
    {
      "cell_type": "code",
      "source": [
        "\n",
        "from matplotlib import pyplot\n",
        "pyplot.plot(history_v1.history['mse'],label=\"train_mse\")\n",
        "pyplot.plot(history_v1.history['val_mse'],label=\"validate_mse\")\n",
        "pyplot.legend(loc='upper center')\n",
        "plt.title('learning rate - 0.01, hidden layers with units : [12,8,32,16,32,2]')\n",
        "plt.xlabel('epochs')\n",
        "plt.ylabel('mean sq error')\n",
        "# pyplot.plot(history.history['accuracy'])\n",
        "pyplot.show()"
      ],
      "metadata": {
        "colab": {
          "base_uri": "https://localhost:8080/",
          "height": 295
        },
        "id": "YvNPYBj2PHXz",
        "outputId": "a5b33764-7e7b-4e68-abc2-054300d09a3e"
      },
      "execution_count": 106,
      "outputs": [
        {
          "output_type": "display_data",
          "data": {
            "image/png": "[encoded data removed]",
            "text/plain": [
              "<Figure size 432x288 with 1 Axes>"
            ]
          },
          "metadata": {
            "needs_background": "light"
          }
        }
      ]
    },
    {
      "cell_type": "code",
      "source": [
        "history_v1.model.evaluate(X_test,y_test)"
      ],
      "metadata": {
        "colab": {
          "base_uri": "https://localhost:8080/"
        },
        "id": "3P16idieCLjd",
        "outputId": "e94999bc-3e5d-44b4-a32c-9b96dfeda1fc"
      },
      "execution_count": 107,
      "outputs": [
        {
          "output_type": "stream",
          "name": "stdout",
          "text": [
            "12182/12182 [==============================] - 18s 2ms/step - loss: 0.0397 - mse: 0.0397 - accuracy: 0.9228\n"
          ]
        },
        {
          "output_type": "execute_result",
          "data": {
            "text/plain": [
              "[0.039745766669511795, 0.039745766669511795, 0.9228150844573975]"
            ]
          },
          "metadata": {},
          "execution_count": 107
        }
      ]
    }
  ]
}