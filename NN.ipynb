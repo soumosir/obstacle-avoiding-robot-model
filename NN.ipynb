{
  "nbformat": 4,
  "nbformat_minor": 0,
  "metadata": {
    "colab": {
      "name": "NN.ipynb",
      "provenance": [],
      "collapsed_sections": []
    },
    "kernelspec": {
      "name": "python3",
      "display_name": "Python 3"
    },
    "language_info": {
      "name": "python"
    }
  },
  "cells": [
    {
      "cell_type": "code",
      "execution_count": 2,
      "metadata": {
        "id": "swbl591e39jY"
      },
      "outputs": [],
      "source": [
        "# %tensorflow_version 2.x  # this line is not required unless you are in a notebook\n",
        "# # TensorFlow and tf.keras\n",
        "import numpy as np\n",
        "import pandas as pd\n",
        "import seaborn as sns\n",
        "import os\n",
        "import pickle\n",
        "import json\n",
        "from glob import glob\n",
        "from sklearn.multioutput import RegressorChain\n",
        "from sklearn.svm import LinearSVR\n",
        "from sklearn.neighbors import KNeighborsRegressor\n",
        "from sklearn.tree import DecisionTreeRegressor\n",
        "from sklearn.metrics import mean_squared_error\n",
        "from sklearn.linear_model import LinearRegression"
      ]
    },
    {
      "cell_type": "code",
      "source": [
        "X = np.load('X_nn.npy')\n",
        "y = np.load('y_nn.npy')  \n",
        "from sklearn.model_selection import train_test_split\n",
        "X, XValidation, y, yValidation = train_test_split(X,y,test_size=0.2,random_state=42) \n",
        "print(X.shape,y.shape,XValidation.shape,yValidation.shape)"
      ],
      "metadata": {
        "colab": {
          "base_uri": "https://localhost:8080/"
        },
        "id": "NiDK-e9fF52i",
        "outputId": "3bbca4ee-0d07-4a54-e91d-897c88b68017"
      },
      "execution_count": 6,
      "outputs": [
        {
          "output_type": "stream",
          "name": "stdout",
          "text": [
            "(2195595, 18) (2195595, 2) (548899, 18) (548899, 2)\n"
          ]
        }
      ]
    },
    {
      "cell_type": "code",
      "source": [
        "X_test = np.load('X_nn_test.npy')\n",
        "y_test = np.load('y_nn_test.npy')  \n",
        "print(X_test.shape,y_test.shape)"
      ],
      "metadata": {
        "id": "ecboOKKEcEtJ",
        "colab": {
          "base_uri": "https://localhost:8080/"
        },
        "outputId": "da954469-75b9-4a2a-f8b7-7e3aadcb0c10"
      },
      "execution_count": 7,
      "outputs": [
        {
          "output_type": "stream",
          "name": "stdout",
          "text": [
            "(389817, 18) (389817, 2)\n"
          ]
        }
      ]
    },
    {
      "cell_type": "code",
      "source": [
        "\n",
        "model_linear = LinearRegression()\n",
        "\n",
        "model_linear.fit(X, y)\n",
        "# pickle.dump(model_linear, open('model_linear.sav', 'wb')) \n",
        "\n",
        "y_pred = model_linear.predict(X)\n",
        "# print(y.shape,y_pred.shape,X.shape)\n",
        "mse_l = mean_squared_error(y, y_pred)\n",
        "print(\" mse in training data -LR: \",mse_l)\n",
        "\n",
        "y_pred_test = model_linear.predict(X_test)\n",
        "mse_l_t = mean_squared_error(y_test, y_pred_test)\n",
        "print(\" mse in testing date -LR : \",mse_l_t)"
      ],
      "metadata": {
        "colab": {
          "base_uri": "https://localhost:8080/"
        },
        "outputId": "c574205d-a7f4-4f82-d081-54f402d58127",
        "id": "G8Jo4NvScGTR"
      },
      "execution_count": 8,
      "outputs": [
        {
          "output_type": "stream",
          "name": "stdout",
          "text": [
            " mse in training data -LR:  0.08469151131341271\n",
            " mse in testing date -LR :  0.08275897426599729\n"
          ]
        }
      ]
    },
    {
      "cell_type": "code",
      "source": [
        "from sklearn.multioutput import MultiOutputRegressor\n",
        "from sklearn.linear_model import Ridge\n",
        "\n",
        "model_Ridge = MultiOutputRegressor(Ridge(random_state=123)).fit(X, y)\n",
        "y_pred_ridge = model_Ridge.predict(X)\n",
        "# print(y.shape,y_pred.shape,X.shape)\n",
        "mse_lr = mean_squared_error(y, y_pred_ridge)\n",
        "print(\" mse in training data -Ridge: \",mse_lr)\n",
        "\n",
        "y_pred_test_ridge = model_Ridge.predict(X_test)\n",
        "mse_lr_t = mean_squared_error(y_test, y_pred_test_ridge)\n",
        "print(\" mse in testing date -Ridge : \",mse_lr_t)"
      ],
      "metadata": {
        "colab": {
          "base_uri": "https://localhost:8080/"
        },
        "id": "HEzTI5T5GIbb",
        "outputId": "6f48afdb-28f5-408b-c255-8a542eb394e0"
      },
      "execution_count": 9,
      "outputs": [
        {
          "output_type": "stream",
          "name": "stdout",
          "text": [
            " mse in training data -Ridge:  0.08469151131345751\n",
            " mse in testing date -Ridge :  0.08275897544343264\n"
          ]
        }
      ]
    },
    {
      "cell_type": "code",
      "source": [
        "from sklearn.linear_model import SGDRegressor\n",
        "from sklearn.pipeline import make_pipeline\n",
        "from sklearn.preprocessing import StandardScaler\n",
        "reg = MultiOutputRegressor(make_pipeline(StandardScaler(),SGDRegressor(max_iter=1000, tol=1e-3)))\n",
        "reg.fit(X, y)\n",
        "\n",
        "y_pred_reg = reg.predict(X)\n",
        "# print(y.shape,y_pred.shape,X.shape)\n",
        "mse_reg = mean_squared_error(y, y_pred_reg)\n",
        "print(\" mse in training data -SDGRegressor: \",mse_reg)\n",
        "\n",
        "y_pred_test_reg = reg.predict(X_test)\n",
        "mse_reg_t = mean_squared_error(y_test, y_pred_test_reg)\n",
        "print(\" mse in testing date -SDGRegressor : \",mse_reg_t)\n"
      ],
      "metadata": {
        "colab": {
          "base_uri": "https://localhost:8080/"
        },
        "id": "pWh5N2smHku5",
        "outputId": "f6758c27-59d5-4418-ab5b-2ef499884a24"
      },
      "execution_count": 11,
      "outputs": [
        {
          "output_type": "stream",
          "name": "stdout",
          "text": [
            " mse in training data -SDGRegressor:  0.08484172256219111\n",
            " mse in testing date -SDGRegressor :  0.08305160480836499\n"
          ]
        }
      ]
    },
    {
      "cell_type": "code",
      "source": [
        "from sklearn import linear_model\n",
        "model_lasso = linear_model.Lasso(alpha=0.1)\n",
        "model_lasso.fit(X,y)\n",
        "\n",
        "y_pred_model_lasso = model_lasso.predict(X)\n",
        "# print(y.shape,y_pred.shape,X.shape)\n",
        "mse_model_lasso = mean_squared_error(y, y_pred_model_lasso)\n",
        "print(\" mse in training data -model_lasso: \",mse_model_lasso)\n",
        "\n",
        "y_pred_test_model_lasso = reg.predict(X_test)\n",
        "mse_model_lasso_t = mean_squared_error(y_test, y_pred_test_model_lasso)\n",
        "print(\" mse in testing date -model_lasso : \",mse_model_lasso_t)"
      ],
      "metadata": {
        "colab": {
          "base_uri": "https://localhost:8080/"
        },
        "id": "bj-IxFKIKMr1",
        "outputId": "e8ba6481-70d2-46a4-ce67-8293563ebd90"
      },
      "execution_count": 12,
      "outputs": [
        {
          "output_type": "stream",
          "name": "stdout",
          "text": [
            " mse in training data -model_lasso:  0.08971326567345395\n",
            " mse in testing date -model_lasso :  0.08305160480836499\n"
          ]
        }
      ]
    }
  ]
}