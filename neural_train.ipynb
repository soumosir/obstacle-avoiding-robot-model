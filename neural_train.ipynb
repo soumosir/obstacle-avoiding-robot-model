{
 "cells": [
  {
   "cell_type": "code",
   "execution_count": 56,
   "id": "0450f556",
   "metadata": {},
   "outputs": [],
   "source": [
    "import numpy as np\n",
    "import pandas as pd\n",
    "import seaborn as sns\n",
    "import os\n",
    "import pickle\n",
    "import json\n",
    "from glob import glob\n",
    "import tensorflow as tf\n",
    "from tensorflow import keras\n",
    "from keras.models import Sequential\n",
    "from keras.layers import Dense\n",
    "import matplotlib.pyplot as plt"
   ]
  },
  {
   "cell_type": "code",
   "execution_count": 57,
   "id": "c81d61bd",
   "metadata": {},
   "outputs": [
    {
     "name": "stdout",
     "output_type": "stream",
     "text": [
      "107\n"
     ]
    }
   ],
   "source": [
    "\n",
    "PATH = \"/Users/sdutta7/Documents/mlfinalproject/training_data\"\n",
    "EXT = \"*.csv\"\n",
    "all_csv_files = []\n",
    "for path, subdir, files in os.walk(PATH):\n",
    "    for file in glob(os.path.join(path, EXT)):\n",
    "        all_csv_files.append(file)\n",
    "print(len(all_csv_files))"
   ]
  },
  {
   "cell_type": "code",
   "execution_count": null,
   "id": "38a47ee3",
   "metadata": {},
   "outputs": [],
   "source": [
    "\n",
    "headers = []\n",
    "with open('config.json') as f:\n",
    "    headers = json.load(f)\n",
    "\n",
    "i=0\n",
    "df = pd.DataFrame(columns = headers)\n",
    "for path in all_csv_files:    \n",
    "    i+=1\n",
    "    print(\"i - \",i)\n",
    "    df_new = pd.read_csv(path,names=headers)\n",
    "    df = df.append(df_new, ignore_index = True)\n",
    "    if i==1:\n",
    "        break\n",
    "    \n",
    "arr1_120 = [ 'Laser'+str(i+1) for i in range(0,120)]\n",
    "df['laser_1_120'] = df[arr1_120].mean(axis=1)   \n",
    "\n",
    "arr121_240 = [ 'Laser'+str(i+1) for i in range(120,240)]\n",
    "df['laser_121_240'] = df[arr121_240].mean(axis=1)   \n",
    "\n",
    "arr241_360 = [ 'Laser'+str(i+1) for i in range(240,360)]\n",
    "df['laser_241_360'] = df[arr241_360].mean(axis=1) \n",
    "\n",
    "arr361_480 = [ 'Laser'+str(i+1) for i in range(360,480)]\n",
    "df['laser_361_480'] = df[arr361_480].mean(axis=1)     \n",
    "\n",
    "arr481_600 = [ 'Laser'+str(i+1) for i in range(480,600)]\n",
    "df['laser_481_600'] = df[arr481_600].mean(axis=1)    \n",
    "\n",
    "arr601_720 = [ 'Laser'+str(i+1) for i in range(600,720)]\n",
    "df['laser_601_720'] = df[arr601_720].mean(axis=1)  \n",
    "arr721_840 = [ 'Laser'+str(i+1) for i in range(720,840)]\n",
    "df['laser_721_840'] = df[arr721_840].mean(axis=1)  \n",
    "\n",
    "arr841_960 = [ 'Laser'+str(i+1) for i in range(840,960)]\n",
    "df['laser_841_960'] = df[arr841_960].mean(axis=1)  \n",
    "\n",
    "arr961_1080 = [ 'Laser'+str(i+1) for i in range(960,1080)]\n",
    "df['laser_961_1080'] = df[arr961_1080].mean(axis=1)  \n",
    "\n",
    "df = df.iloc[: , 1080:]\n",
    "X = df[[\"Final_goal_x\",\"Final_goal_y\",\"Final_goal_qk\",\"Final_goal_qr\",\"Local_goal_x\",\"Local_goal_y\",\"Local_goal_qk\",\"Local_goal_qr\",\"Robot_pos_x\",\"Robot_pos_y\",\"Robot_pos_qr\",\"Robot_pos_qk\",\"laser_1_120\",\"laser_121_240\",\"laser_241_360\",\"laser_361_480\",\"laser_481_600\",\"laser_601_720\",\"laser_721_840\",\"laser_841_960\",\"laser_961_1080\"]]\n",
    "y = df[[\"Cmd_vel_v\",\"Cmd_vel_w\"]]\n",
    "print(X.shape,y.shape)\n",
    "X = np.array(X)\n",
    "y = np.array(y)\n",
    "\n",
    "\n"
   ]
  },
  {
   "cell_type": "code",
   "execution_count": 10,
   "id": "b6a27dd1",
   "metadata": {},
   "outputs": [
    {
     "name": "stdout",
     "output_type": "stream",
     "text": [
      "(114801, 21) (114801, 2) (28701, 21) (28701, 2)\n"
     ]
    }
   ],
   "source": [
    "from sklearn.model_selection import train_test_split\n",
    "X, XValidation, y, yValidation = train_test_split(X,y,test_size=0.2,random_state=42) # before model building\n",
    "print(X.shape,y.shape,XValidation.shape,yValidation.shape)"
   ]
  },
  {
   "cell_type": "code",
   "execution_count": 18,
   "id": "05304a48",
   "metadata": {},
   "outputs": [],
   "source": [
    "# define the keras model\n",
    "from keras_tuner.tuners import RandomSearch\n",
    "from tensorflow.keras import layers\n",
    "def build_model(hp):\n",
    "    model = keras.Sequential()\n",
    "    for i in range(hp.Int('num_layers', 2, 20)):\n",
    "        model.add(layers.Dense(units=hp.Int('units_' + str(i),\n",
    "                                            min_value=32,\n",
    "                                            max_value=512,\n",
    "                                            step=32),\n",
    "                               activation='relu'))\n",
    "    model.add(layers.Dense(2, activation='linear'))\n",
    "    model.compile(\n",
    "        optimizer=keras.optimizers.Adam(\n",
    "            hp.Choice('learning_rate', [1e-2, 1e-3, 1e-4])),\n",
    "        loss='mean_absolute_error',\n",
    "        metrics=['mean_absolute_error'])\n",
    "    return model\n",
    "\n",
    "tuner = RandomSearch(\n",
    "    build_model,\n",
    "    objective='val_mean_absolute_error',\n",
    "    max_trials=5,\n",
    "    executions_per_trial=3,\n",
    "    directory='project',\n",
    "    project_name='Neural Networks for Robot')\n",
    "\n",
    "\n",
    "# model_neural = Sequential()\n",
    "# model_neural.add(Dense(12, input_dim=21, activation='relu'))\n",
    "# model_neural.add(Dense(8, activation='relu'))\n",
    "# model_neural.add(Dense(2, activation='sigmoid'))\n",
    "# model_neural.compile(optimizer='adam',\n",
    "#               loss='mse',\n",
    "#               metrics=['accuracy','mse',])"
   ]
  },
  {
   "cell_type": "code",
   "execution_count": 19,
   "id": "2398275d",
   "metadata": {},
   "outputs": [
    {
     "name": "stdout",
     "output_type": "stream",
     "text": [
      "Trial 5 Complete [00h 05m 39s]\n",
      "val_mean_absolute_error: 0.2344270497560501\n",
      "\n",
      "Best val_mean_absolute_error So Far: 0.08370533585548401\n",
      "Total elapsed time: 00h 18m 37s\n",
      "INFO:tensorflow:Oracle triggered exit\n"
     ]
    }
   ],
   "source": [
    "print(X.shape,y.shape)\n",
    "# history = model_neural.fit(X, y, batch_size=100,validation_data=(XValidation,yValidation),epochs=10)\n",
    "# pickle.dump(model_neural, open('finalized_robot_nural.sav', 'wb')) \n",
    "tuner.search(X, y,\n",
    "             epochs=10,\n",
    "             validation_data=(XValidation,yValidation))"
   ]
  },
  {
   "cell_type": "code",
   "execution_count": null,
   "id": "71ae0e43",
   "metadata": {},
   "outputs": [],
   "source": [
    "best_hps = tuner.get_best_hyperparameters()[0]\n",
    "model_all = tuner.hypermodel.build(best_hps)\n",
    "model_all_copy = model_all\n",
    "history_all = model_v1.fit(X, y, epochs=10)\n",
    "history_all_validate = model_all_copy.fit(XValidation,yValidation,epochs=10)\n",
    "pickle.dump(model_all, open('finalized_robot_neural_all.sav', 'wb'))\n"
   ]
  },
  {
   "cell_type": "code",
   "execution_count": 45,
   "id": "808bcc96",
   "metadata": {},
   "outputs": [
    {
     "name": "stdout",
     "output_type": "stream",
     "text": [
      "Epoch 1/5\n",
      "3588/3588 [==============================] - 14s 4ms/step - loss: 0.1135 - mean_absolute_error: 0.1135\n",
      "Epoch 2/5\n",
      "3588/3588 [==============================] - 13s 4ms/step - loss: 0.0978 - mean_absolute_error: 0.0978\n",
      "Epoch 3/5\n",
      "3588/3588 [==============================] - 13s 4ms/step - loss: 0.0932 - mean_absolute_error: 0.0932\n",
      "Epoch 4/5\n",
      "3588/3588 [==============================] - 13s 4ms/step - loss: 0.0884 - mean_absolute_error: 0.0884\n",
      "Epoch 5/5\n",
      "3588/3588 [==============================] - 13s 4ms/step - loss: 0.0852 - mean_absolute_error: 0.0852\n",
      "Epoch 1/5\n",
      "897/897 [==============================] - 4s 4ms/step - loss: 0.1360 - mean_absolute_error: 0.1360\n",
      "Epoch 2/5\n",
      "897/897 [==============================] - 3s 4ms/step - loss: 0.1112 - mean_absolute_error: 0.1112\n",
      "Epoch 3/5\n",
      "897/897 [==============================] - 3s 4ms/step - loss: 0.1056 - mean_absolute_error: 0.1056\n",
      "Epoch 4/5\n",
      "897/897 [==============================] - 3s 4ms/step - loss: 0.1030 - mean_absolute_error: 0.1030\n",
      "Epoch 5/5\n",
      "897/897 [==============================] - 3s 4ms/step - loss: 0.0984 - mean_absolute_error: 0.0984\n"
     ]
    }
   ],
   "source": [
    "best_hps = tuner.get_best_hyperparameters()[0]\n",
    "model_v1 = tuner.hypermodel.build(best_hps)\n",
    "history_v1 = model_v1.fit(X, y, epochs=10)\n",
    "model_v1 = tuner.hypermodel.build(best_hps)\n",
    "history_validate_v1 = model_v1.fit(XValidation,yValidation, epochs=5)\n",
    "# validation_data=(XValidation,yValidation)"
   ]
  },
  {
   "cell_type": "code",
   "execution_count": 55,
   "id": "d23bd8cd",
   "metadata": {},
   "outputs": [
    {
     "data": {
      "image/png": "[encoded data removed]",
      "text/plain": [
       "<Figure size 432x288 with 1 Axes>"
      ]
     },
     "metadata": {
      "needs_background": "light"
     },
     "output_type": "display_data"
    }
   ],
   "source": [
    "# plot metrics\n",
    "\n",
    "from matplotlib import pyplot\n",
    "pyplot.plot(history_v1.history['mean_absolute_error'],label=\"train\")\n",
    "pyplot.plot(history_validate_v1.history['mean_absolute_error'],label=\"validate\")\n",
    "pyplot.legend(loc='upper center')\n",
    "# pyplot.plot(history.history['accuracy'])\n",
    "pyplot.show()"
   ]
  },
  {
   "cell_type": "code",
   "execution_count": null,
   "id": "d31461c2",
   "metadata": {},
   "outputs": [],
   "source": [
    "#performance \n"
   ]
  },
  {
   "cell_type": "code",
   "execution_count": null,
   "id": "7313924d",
   "metadata": {},
   "outputs": [],
   "source": []
  }
 ],
 "metadata": {
  "kernelspec": {
   "display_name": "Python 3 (ipykernel)",
   "language": "python",
   "name": "python3"
  },
  "language_info": {
   "codemirror_mode": {
    "name": "ipython",
    "version": 3
   },
   "file_extension": ".py",
   "mimetype": "text/x-python",
   "name": "python",
   "nbconvert_exporter": "python",
   "pygments_lexer": "ipython3",
   "version": "3.9.7"
  }
 },
 "nbformat": 4,
 "nbformat_minor": 5
}
